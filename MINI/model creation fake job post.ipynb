{
  "nbformat": 4,
  "nbformat_minor": 0,
  "metadata": {
    "colab": {
      "provenance": []
    },
    "kernelspec": {
      "name": "python3",
      "display_name": "Python 3"
    },
    "language_info": {
      "name": "python"
    }
  },
  "cells": [
    {
      "cell_type": "code",
      "execution_count": 5,
      "metadata": {
        "id": "FQ_aTgeIHrzB"
      },
      "outputs": [],
      "source": [
        "# Import necessary libraries\n",
        "import pandas as pd\n",
        "import numpy as np\n",
        "import matplotlib.pyplot as plt\n",
        "import seaborn as sns\n",
        "from sklearn.model_selection import train_test_split\n",
        "from sklearn.feature_extraction.text import TfidfVectorizer\n",
        "from sklearn.metrics import accuracy_score, precision_score, recall_score, f1_score, confusion_matrix, ConfusionMatrixDisplay\n",
        "from sklearn.preprocessing import OneHotEncoder\n",
        "from imblearn.over_sampling import SMOTE\n",
        "from scipy.sparse import hstack\n",
        "import joblib\n",
        "from xgboost import XGBClassifier\n"
      ]
    },
    {
      "cell_type": "code",
      "source": [
        "# Load the dataset\n",
        "DATASET_PATH = '/content/fake_job_postings.csv'  # Ensure this is the correct file path in your Google Colab\n",
        "df = pd.read_csv(DATASET_PATH)\n",
        "\n",
        "# Select relevant columns\n",
        "relevant_columns = [\n",
        "    'title', 'location', 'department', 'salary_range', 'company_profile',\n",
        "    'description', 'requirements', 'benefits', 'telecommuting', 'has_company_logo',\n",
        "    'has_questions', 'employment_type', 'required_experience', 'required_education',\n",
        "    'industry', 'function', 'fraudulent'\n",
        "]\n",
        "\n",
        "# Preprocess the dataset to include all relevant columns\n",
        "df = df[relevant_columns].copy()\n",
        "df.dropna(subset=['description'], inplace=True)  # Ensure no missing values in 'description'\n",
        "\n",
        "# Fill missing values for non-textual columns\n",
        "for column in ['employment_type', 'required_experience', 'required_education', 'industry', 'function', 'salary_range']:\n",
        "    df[column].fillna('Unknown', inplace=True)\n",
        "\n",
        "# Fill missing values for numerical columns\n",
        "df['telecommuting'].fillna(0, inplace=True)\n",
        "df['has_company_logo'].fillna(0, inplace=True)\n",
        "df['has_questions'].fillna(0, inplace=True)\n"
      ],
      "metadata": {
        "colab": {
          "base_uri": "https://localhost:8080/"
        },
        "id": "euKq8x78HvOR",
        "outputId": "66ebfc5b-ef40-464a-ba8d-173971db8c0c"
      },
      "execution_count": 6,
      "outputs": [
        {
          "output_type": "stream",
          "name": "stderr",
          "text": [
            "<ipython-input-6-c0cd35bea37a>:19: FutureWarning: A value is trying to be set on a copy of a DataFrame or Series through chained assignment using an inplace method.\n",
            "The behavior will change in pandas 3.0. This inplace method will never work because the intermediate object on which we are setting values always behaves as a copy.\n",
            "\n",
            "For example, when doing 'df[col].method(value, inplace=True)', try using 'df.method({col: value}, inplace=True)' or df[col] = df[col].method(value) instead, to perform the operation inplace on the original object.\n",
            "\n",
            "\n",
            "  df[column].fillna('Unknown', inplace=True)\n",
            "<ipython-input-6-c0cd35bea37a>:22: FutureWarning: A value is trying to be set on a copy of a DataFrame or Series through chained assignment using an inplace method.\n",
            "The behavior will change in pandas 3.0. This inplace method will never work because the intermediate object on which we are setting values always behaves as a copy.\n",
            "\n",
            "For example, when doing 'df[col].method(value, inplace=True)', try using 'df.method({col: value}, inplace=True)' or df[col] = df[col].method(value) instead, to perform the operation inplace on the original object.\n",
            "\n",
            "\n",
            "  df['telecommuting'].fillna(0, inplace=True)\n",
            "<ipython-input-6-c0cd35bea37a>:23: FutureWarning: A value is trying to be set on a copy of a DataFrame or Series through chained assignment using an inplace method.\n",
            "The behavior will change in pandas 3.0. This inplace method will never work because the intermediate object on which we are setting values always behaves as a copy.\n",
            "\n",
            "For example, when doing 'df[col].method(value, inplace=True)', try using 'df.method({col: value}, inplace=True)' or df[col] = df[col].method(value) instead, to perform the operation inplace on the original object.\n",
            "\n",
            "\n",
            "  df['has_company_logo'].fillna(0, inplace=True)\n",
            "<ipython-input-6-c0cd35bea37a>:24: FutureWarning: A value is trying to be set on a copy of a DataFrame or Series through chained assignment using an inplace method.\n",
            "The behavior will change in pandas 3.0. This inplace method will never work because the intermediate object on which we are setting values always behaves as a copy.\n",
            "\n",
            "For example, when doing 'df[col].method(value, inplace=True)', try using 'df.method({col: value}, inplace=True)' or df[col] = df[col].method(value) instead, to perform the operation inplace on the original object.\n",
            "\n",
            "\n",
            "  df['has_questions'].fillna(0, inplace=True)\n"
          ]
        }
      ]
    },
    {
      "cell_type": "code",
      "source": [
        "# Feature Engineering\n",
        "df['has_salary_range'] = df['salary_range'].apply(lambda x: 0 if x == 'Unknown' else 1)\n",
        "df['location_industry'] = df['location'] + '_' + df['industry']\n",
        "\n",
        "# Convert the target variable to integers (if not already done)\n",
        "y = df['fraudulent'].astype(int)  # Ensure 'fraudulent' column is an integer type\n"
      ],
      "metadata": {
        "id": "TLuHfdCJH7c0"
      },
      "execution_count": 7,
      "outputs": []
    },
    {
      "cell_type": "code",
      "source": [
        "# Vectorize text columns with TF-IDF\n",
        "vectorizer = TfidfVectorizer(max_features=5000)\n",
        "text_columns = ['description', 'company_profile', 'requirements', 'benefits', 'title', 'location', 'department']\n",
        "text_features = vectorizer.fit_transform(df['description'].astype(str) + ' ' +\n",
        "                                         df['company_profile'].astype(str) + ' ' +\n",
        "                                         df['requirements'].astype(str) + ' ' +\n",
        "                                         df['benefits'].astype(str))\n",
        "\n",
        "# Save the vectorizer for later use\n",
        "joblib.dump(vectorizer, 'vectorizer.pkl')\n",
        "print(\"Vectorizer saved successfully as 'vectorizer.pkl'.\")\n"
      ],
      "metadata": {
        "colab": {
          "base_uri": "https://localhost:8080/"
        },
        "id": "ItMRAalOH9ql",
        "outputId": "e722f5a7-aff9-4f43-bbc2-8607cb4dd818"
      },
      "execution_count": 8,
      "outputs": [
        {
          "output_type": "stream",
          "name": "stdout",
          "text": [
            "Vectorizer saved successfully as 'vectorizer.pkl'.\n"
          ]
        }
      ]
    },
    {
      "cell_type": "code",
      "source": [
        "# One-hot encode categorical columns\n",
        "categorical_columns = ['employment_type', 'required_experience', 'required_education', 'industry', 'function', 'location_industry']\n",
        "encoder = OneHotEncoder(handle_unknown='ignore')\n",
        "categorical_features = encoder.fit_transform(df[categorical_columns])\n",
        "\n",
        "# Save the encoder for later use\n",
        "joblib.dump(encoder, 'encoder.pkl')\n",
        "print(\"Encoder saved successfully as 'encoder.pkl'.\")\n"
      ],
      "metadata": {
        "colab": {
          "base_uri": "https://localhost:8080/"
        },
        "id": "CS4SnsrMH_-u",
        "outputId": "e37405a4-aa65-404d-ddf0-9b6adf5cf3bf"
      },
      "execution_count": 9,
      "outputs": [
        {
          "output_type": "stream",
          "name": "stdout",
          "text": [
            "Encoder saved successfully as 'encoder.pkl'.\n"
          ]
        }
      ]
    },
    {
      "cell_type": "code",
      "source": [
        "# Combine text and categorical features\n",
        "x_combined = hstack([text_features, categorical_features])\n",
        "\n",
        "# Handle Imbalanced Data using SMOTE\n",
        "smote = SMOTE(random_state=42)\n",
        "x_combined_balanced, y_balanced = smote.fit_resample(x_combined, y)\n"
      ],
      "metadata": {
        "id": "5J29Kec4IBzu"
      },
      "execution_count": 10,
      "outputs": []
    },
    {
      "cell_type": "code",
      "source": [
        "# Split the data into training and testing sets\n",
        "x_train, x_test, y_train, y_test = train_test_split(x_combined_balanced, y_balanced, test_size=0.15, random_state=32)\n"
      ],
      "metadata": {
        "id": "hb42Mjo-ID0m"
      },
      "execution_count": 11,
      "outputs": []
    },
    {
      "cell_type": "code",
      "source": [
        "# Train the XGBoost Model\n",
        "model = XGBClassifier(eval_metric='logloss', random_state=42)\n",
        "model.fit(x_train, y_train)\n",
        "\n",
        "# Save the trained model\n",
        "joblib.dump(model, 'new_xgb_model.pkl')\n",
        "print(\"Model saved successfully as 'new_xgb_model.pkl'.\")\n"
      ],
      "metadata": {
        "colab": {
          "base_uri": "https://localhost:8080/"
        },
        "id": "m2hJgE68IF0f",
        "outputId": "62fdd9f4-826d-43d5-a0bd-21fa94bc6fa9"
      },
      "execution_count": 12,
      "outputs": [
        {
          "output_type": "stream",
          "name": "stdout",
          "text": [
            "Model saved successfully as 'new_xgb_model.pkl'.\n"
          ]
        }
      ]
    },
    {
      "cell_type": "code",
      "source": [
        "# Use the loaded model to make predictions\n",
        "y_pred = model.predict(x_test)\n",
        "\n",
        "# Evaluate the performance\n",
        "accuracy = accuracy_score(y_test, y_pred)\n",
        "precision = precision_score(y_test, y_pred)\n",
        "recall = recall_score(y_test, y_pred)\n",
        "f1 = f1_score(y_test, y_pred)\n",
        "\n",
        "# Print the evaluation metrics\n",
        "print(f\"XGBoost Model - Accuracy: {accuracy:.2f}\")\n",
        "print(f\"XGBoost Model - Precision: {precision:.2f}\")\n",
        "print(f\"XGBoost Model - Recall: {recall:.2f}\")\n",
        "print(f\"XGBoost Model - F1 Score: {f1:.2f}\")\n"
      ],
      "metadata": {
        "colab": {
          "base_uri": "https://localhost:8080/"
        },
        "id": "0y7OBak3IHpf",
        "outputId": "bca137a5-eb96-42e9-cbf7-53652f6185e3"
      },
      "execution_count": 13,
      "outputs": [
        {
          "output_type": "stream",
          "name": "stdout",
          "text": [
            "XGBoost Model - Accuracy: 1.00\n",
            "XGBoost Model - Precision: 1.00\n",
            "XGBoost Model - Recall: 1.00\n",
            "XGBoost Model - F1 Score: 1.00\n"
          ]
        }
      ]
    },
    {
      "cell_type": "code",
      "source": [
        "# Confusion Matrix for the Model\n",
        "conf_matrix = confusion_matrix(y_test, y_pred)\n",
        "ConfusionMatrixDisplay(confusion_matrix=conf_matrix, display_labels=['Not Fake', 'Fake']).plot()\n",
        "plt.title(\"XGBoost Model Confusion Matrix\")\n",
        "plt.show()\n"
      ],
      "metadata": {
        "colab": {
          "base_uri": "https://localhost:8080/",
          "height": 472
        },
        "id": "st0lRg2JIJUN",
        "outputId": "b4d37930-44cc-4f04-dea3-672d1decadea"
      },
      "execution_count": 14,
      "outputs": [
        {
          "output_type": "display_data",
          "data": {
            "text/plain": [
              "<Figure size 640x480 with 2 Axes>"
            ],
            "image/png": "[encoded data removed]"
          },
          "metadata": {}
        }
      ]
    },
    {
      "cell_type": "code",
      "source": [
        "import xgboost\n",
        "\n",
        "# Visualize Feature Importance\n",
        "xgboost.plot_importance(model, importance_type=\"weight\")\n",
        "plt.title('Feature Importance (Trained Model)')\n",
        "plt.show()\n"
      ],
      "metadata": {
        "colab": {
          "base_uri": "https://localhost:8080/",
          "height": 472
        },
        "id": "YbCY2mCLILt7",
        "outputId": "677b8beb-05c4-4e51-ff8b-f03924ce5cdc"
      },
      "execution_count": 15,
      "outputs": [
        {
          "output_type": "display_data",
          "data": {
            "text/plain": [
              "<Figure size 640x480 with 1 Axes>"
            ],
            "image/png": "[encoded data removed]"
          },
          "metadata": {}
        }
      ]
    },
    {
      "cell_type": "code",
      "source": [
        "# Import necessary libraries\n",
        "import pandas as pd\n",
        "import numpy as np\n",
        "import joblib\n",
        "from scipy.sparse import hstack\n",
        "from sklearn.feature_extraction.text import TfidfVectorizer\n",
        "from sklearn.preprocessing import OneHotEncoder\n",
        "\n",
        "# Load the saved model, vectorizer, and encoder\n",
        "model = joblib.load('new_xgb_model.pkl')\n",
        "vectorizer = joblib.load('vectorizer.pkl')\n",
        "encoder = joblib.load('encoder.pkl')\n",
        "\n",
        "print(\"Model, Vectorizer, and Encoder loaded successfully.\")\n"
      ],
      "metadata": {
        "colab": {
          "base_uri": "https://localhost:8080/"
        },
        "id": "NjgzR6ZsJY0U",
        "outputId": "0d56b341-1eca-48ef-820c-cfd33f43e902"
      },
      "execution_count": 16,
      "outputs": [
        {
          "output_type": "stream",
          "name": "stdout",
          "text": [
            "Model, Vectorizer, and Encoder loaded successfully.\n"
          ]
        }
      ]
    },
    {
      "cell_type": "code",
      "source": [
        "# Function to preprocess and predict if a job posting is fake or real\n",
        "def predict_fake_job(job_data):\n",
        "    # Prepare text data for vectorization\n",
        "    combined_text = (job_data['description'] + ' ' +\n",
        "                     job_data['company_profile'] + ' ' +\n",
        "                     job_data['requirements'] + ' ' +\n",
        "                     job_data['benefits'])\n",
        "\n",
        "    # Vectorize the combined text\n",
        "    text_features = vectorizer.transform([combined_text])\n",
        "\n",
        "    # Prepare categorical data for one-hot encoding\n",
        "    categorical_data = [[\n",
        "        job_data['employment_type'],\n",
        "        job_data['required_experience'],\n",
        "        job_data['required_education'],\n",
        "        job_data['industry'],\n",
        "        job_data['function'],\n",
        "        job_data['location'] + '_' + job_data['industry']\n",
        "    ]]\n",
        "\n",
        "    encoded_features = encoder.transform(categorical_data)\n",
        "\n",
        "    # Combine text and categorical features\n",
        "    input_combined = hstack([text_features, encoded_features])\n",
        "\n",
        "    # Check the shape of the input data for compatibility\n",
        "    print(f\"Shape of text_features: {text_features.shape}\")\n",
        "    print(f\"Shape of encoded_features: {encoded_features.shape}\")\n",
        "    print(f\"Shape of combined input: {input_combined.shape}\")\n",
        "\n",
        "    # Make predictions using the loaded model\n",
        "    prediction = model.predict(input_combined)\n",
        "    prediction_prob = model.predict_proba(input_combined)\n",
        "\n",
        "    # Display the prediction result\n",
        "    if prediction[0] == 1:\n",
        "        print(\"Prediction: The job posting is FAKE.\")\n",
        "    else:\n",
        "        print(\"Prediction: The job posting is REAL.\")\n",
        "\n",
        "    # Show the probability score\n",
        "    print(f\"Probability of being FAKE: {prediction_prob[0][1] * 100:.2f}%\")\n"
      ],
      "metadata": {
        "id": "SAHBIhGRJbmL"
      },
      "execution_count": 17,
      "outputs": []
    },
    {
      "cell_type": "code",
      "source": [
        "# Example job data to predict if it's fake or real\n",
        "job_data = {\n",
        "    'title': 'Vice President, Sales and Sponsorship (Businessfriend.com)',\n",
        "    'location': 'US, CA, Carlsbad',\n",
        "    'department': 'Businessfriend.com',\n",
        "    'salary_range': '100000-120000',\n",
        "    'company_profile': 'WDM Group is an innovative, forward-thinking digital company aimed at bringing business executives up-to-date with the latest news, information, and trends from across the globe.',\n",
        "    'description': '#URL_eda2500ddcedb60957fcd7f5b164e092966f8c4e8fb89ce70a16bea1545a297d#, an up and coming social media company, is seeking a VP, Sales and Sponsorship executive...',\n",
        "    'requirements': 'Job Requirements: A reputation as a \"go-getter\" and \"rainmaker\"; Strong interpersonal and leadership abilities...',\n",
        "    'benefits': 'Businessfriend will offer a competitive six-figure salary for this executive role as well as commission and stock options...',\n",
        "    'telecommuting': 0,\n",
        "    'has_company_logo': 1,\n",
        "    'has_questions': 0,\n",
        "    'employment_type': 'Full-time',\n",
        "    'required_experience': 'Executive',\n",
        "    'required_education': 'Unspecified',\n",
        "    'industry': 'internet',\n",
        "    'function': 'Sales'\n",
        "}\n",
        "\n",
        "# Run the prediction function\n",
        "predict_fake_job(job_data)\n"
      ],
      "metadata": {
        "colab": {
          "base_uri": "https://localhost:8080/"
        },
        "id": "uvSZC2YOJdqX",
        "outputId": "7dec5456-a77a-4e28-9fd0-a89dc9df2241"
      },
      "execution_count": 18,
      "outputs": [
        {
          "output_type": "stream",
          "name": "stdout",
          "text": [
            "Shape of text_features: (1, 5000)\n",
            "Shape of encoded_features: (1, 6598)\n",
            "Shape of combined input: (1, 11598)\n",
            "Prediction: The job posting is REAL.\n",
            "Probability of being FAKE: 0.21%\n"
          ]
        },
        {
          "output_type": "stream",
          "name": "stderr",
          "text": [
            "/usr/local/lib/python3.10/dist-packages/sklearn/base.py:493: UserWarning: X does not have valid feature names, but OneHotEncoder was fitted with feature names\n",
            "  warnings.warn(\n"
          ]
        }
      ]
    },
    {
      "cell_type": "code",
      "source": [
        "# Random example job data to predict if it's fake or real\n",
        "job_data = {\n",
        "    'title': 'Software Engineer',\n",
        "    'location': 'US, NY, New York',\n",
        "    'department': 'Engineering',\n",
        "    'salary_range': '80000-100000',\n",
        "    'company_profile': 'A leading technology company focused on innovative software solutions for businesses worldwide. We prioritize cutting-edge technology and exceptional customer support.',\n",
        "    'description': 'We are looking for a skilled Software Engineer to join our dynamic team. You will be responsible for developing high-quality software solutions, collaborating with cross-functional teams, and continuously improving our technology stack. This position requires expertise in Python, JavaScript, and cloud platforms.',\n",
        "    'requirements': 'Bachelor\\'s degree in Computer Science or a related field. 3+ years of software development experience, proficiency in Python and JavaScript, experience with cloud services (AWS, Azure), and excellent problem-solving skills.',\n",
        "    'benefits': 'Competitive salary, health and dental insurance, 401(k) matching, paid vacation, remote work options, and opportunities for professional development.',\n",
        "    'telecommuting': 1,\n",
        "    'has_company_logo': 1,\n",
        "    'has_questions': 1,\n",
        "    'employment_type': 'Full-time',\n",
        "    'required_experience': 'Mid-Senior',\n",
        "    'required_education': 'Bachelor\\'s Degree',\n",
        "    'industry': 'Technology',\n",
        "    'function': 'Engineering'\n",
        "}\n",
        "\n",
        "# Run the prediction function with the random job example\n",
        "predict_fake_job(job_data)\n"
      ],
      "metadata": {
        "colab": {
          "base_uri": "https://localhost:8080/"
        },
        "id": "b2IvenZOKgqg",
        "outputId": "8febeb0b-b628-45f8-b3c8-abbfa10e061f"
      },
      "execution_count": 19,
      "outputs": [
        {
          "output_type": "stream",
          "name": "stdout",
          "text": [
            "Shape of text_features: (1, 5000)\n",
            "Shape of encoded_features: (1, 6598)\n",
            "Shape of combined input: (1, 11598)\n",
            "Prediction: The job posting is REAL.\n",
            "Probability of being FAKE: 0.06%\n"
          ]
        },
        {
          "output_type": "stream",
          "name": "stderr",
          "text": [
            "/usr/local/lib/python3.10/dist-packages/sklearn/base.py:493: UserWarning: X does not have valid feature names, but OneHotEncoder was fitted with feature names\n",
            "  warnings.warn(\n"
          ]
        }
      ]
    },
    {
      "cell_type": "code",
      "source": [
        "# Fake example job data to predict if it's fake or real\n",
        "job_data_fake = {\n",
        "    'title': 'Get Rich Quick - Work From Home!',\n",
        "    'location': 'Remote (Anywhere)',\n",
        "    'department': 'Human Resources',\n",
        "    'salary_range': '30000-50000',\n",
        "    'company_profile': 'A mysterious new company that promises to make you a millionaire in no time! We are looking for motivated individuals to join our remote team.',\n",
        "    'description': 'Do you want to make easy money while working from home? We offer you the chance to earn large commissions by simply referring others to our platform. No experience required, just enthusiasm and willingness to work hard!',\n",
        "    'requirements': 'No experience necessary, just a desire to work and earn money fast.',\n",
        "    'benefits': 'Earn unlimited income, work from anywhere, flexible hours, and be your own boss!',\n",
        "    'telecommuting': 1,\n",
        "    'has_company_logo': 0,\n",
        "    'has_questions': 0,\n",
        "    'employment_type': 'Contract',\n",
        "    'required_experience': 'None',\n",
        "    'required_education': 'None',\n",
        "    'industry': 'Marketing',\n",
        "    'function': 'Sales'\n",
        "}\n",
        "\n",
        "# Run the prediction function with the fake job example\n",
        "predict_fake_job(job_data_fake)\n"
      ],
      "metadata": {
        "colab": {
          "base_uri": "https://localhost:8080/"
        },
        "id": "HhFi905OKy-4",
        "outputId": "659ce098-0c26-49b4-9ad3-f466bd5302fc"
      },
      "execution_count": 20,
      "outputs": [
        {
          "output_type": "stream",
          "name": "stdout",
          "text": [
            "Shape of text_features: (1, 5000)\n",
            "Shape of encoded_features: (1, 6598)\n",
            "Shape of combined input: (1, 11598)\n",
            "Prediction: The job posting is REAL.\n",
            "Probability of being FAKE: 4.56%\n"
          ]
        },
        {
          "output_type": "stream",
          "name": "stderr",
          "text": [
            "/usr/local/lib/python3.10/dist-packages/sklearn/base.py:493: UserWarning: X does not have valid feature names, but OneHotEncoder was fitted with feature names\n",
            "  warnings.warn(\n"
          ]
        }
      ]
    }
  ]
}